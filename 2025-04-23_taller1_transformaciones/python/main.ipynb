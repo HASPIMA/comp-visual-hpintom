{
 "cells": [
  {
   "cell_type": "markdown",
   "id": "78e24dfc",
   "metadata": {},
   "source": [
    "# Python animation"
   ]
  },
  {
   "cell_type": "markdown",
   "id": "9c8365da",
   "metadata": {},
   "source": [
    "## Setup"
   ]
  },
  {
   "cell_type": "markdown",
   "id": "fbc47b56",
   "metadata": {},
   "source": [
    "### Define shape"
   ]
  },
  {
   "cell_type": "code",
   "execution_count": 1,
   "id": "1e42dc27",
   "metadata": {},
   "outputs": [],
   "source": [
    "import numpy as np\n",
    "\n",
    "# Define original shape (triangle)\n",
    "original_shape = np.array([\n",
    "    [0, 0],\n",
    "    [1, 0],\n",
    "    [0.5, 1],\n",
    "    [0, 0]  # Close the triangle\n",
    "]).T  # Shape is 2xN"
   ]
  }
 ],
 "metadata": {
  "language_info": {
   "name": "python"
  }
 },
 "nbformat": 4,
 "nbformat_minor": 5
}
