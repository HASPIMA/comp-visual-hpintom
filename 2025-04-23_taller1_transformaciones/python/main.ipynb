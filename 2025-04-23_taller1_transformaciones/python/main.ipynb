{
 "cells": [
  {
   "cell_type": "markdown",
   "id": "78e24dfc",
   "metadata": {},
   "source": [
    "# Python animation"
   ]
  },
  {
   "cell_type": "markdown",
   "id": "9c8365da",
   "metadata": {},
   "source": [
    "## Setup"
   ]
  },
  {
   "cell_type": "markdown",
   "id": "fbc47b56",
   "metadata": {},
   "source": [
    "### Define shape"
   ]
  },
  {
   "cell_type": "code",
   "execution_count": 1,
   "id": "1e42dc27",
   "metadata": {},
   "outputs": [],
   "source": [
    "import numpy as np\n",
    "\n",
    "# Define original shape (triangle)\n",
    "original_shape = np.array([\n",
    "    [0, 0],\n",
    "    [1, 0],\n",
    "    [0.5, 1],\n",
    "    [0, 0]  # Close the triangle\n",
    "]).T  # Shape is 2xN"
   ]
  },
  {
   "cell_type": "markdown",
   "id": "a390e792",
   "metadata": {},
   "source": [
    "## Define helper for transformations"
   ]
  },
  {
   "cell_type": "code",
   "execution_count": 2,
   "id": "3b6013dd",
   "metadata": {},
   "outputs": [],
   "source": [
    "def get_transformation_matrix(\n",
    "    scale: float,\n",
    "    angle: float,\n",
    "    tx: float,\n",
    "    ty: float,\n",
    "):\n",
    "    '''Creates the transformation matrix for scaling, rotation, and translation.'''\n",
    "\n",
    "    S = np.array([\n",
    "        [scale, 0, 0],\n",
    "        [0, scale, 0],\n",
    "        [0, 0, 1]\n",
    "    ])\n",
    "    R = np.array([\n",
    "        [np.cos(angle), -np.sin(angle), 0],\n",
    "        [np.sin(angle), np.cos(angle), 0],\n",
    "        [0, 0, 1]\n",
    "    ])\n",
    "    T = np.array([\n",
    "        [1, 0, tx],\n",
    "        [0, 1, ty],\n",
    "        [0, 0, 1]\n",
    "    ])\n",
    "    return T @ R @ S"
   ]
  }
 ],
 "metadata": {
  "language_info": {
   "name": "python"
  }
 },
 "nbformat": 4,
 "nbformat_minor": 5
}
