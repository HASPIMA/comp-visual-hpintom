{
 "cells": [
  {
   "cell_type": "markdown",
   "id": "78e24dfc",
   "metadata": {},
   "source": [
    "# Python animation"
   ]
  },
  {
   "cell_type": "markdown",
   "id": "9c8365da",
   "metadata": {},
   "source": [
    "## Setup"
   ]
  },
  {
   "cell_type": "markdown",
   "id": "fbc47b56",
   "metadata": {},
   "source": [
    "### Define shape"
   ]
  },
  {
   "cell_type": "code",
   "execution_count": 1,
   "id": "1e42dc27",
   "metadata": {},
   "outputs": [],
   "source": [
    "import numpy as np\n",
    "\n",
    "# Define original shape (triangle)\n",
    "original_shape = np.array([\n",
    "    [0, 0],\n",
    "    [1, 0],\n",
    "    [0.5, 1],\n",
    "    [0, 0]  # Close the triangle\n",
    "]).T  # Shape is 2xN"
   ]
  },
  {
   "cell_type": "markdown",
   "id": "a390e792",
   "metadata": {},
   "source": [
    "## Define helper for transformations"
   ]
  },
  {
   "cell_type": "code",
   "execution_count": 2,
   "id": "3b6013dd",
   "metadata": {},
   "outputs": [],
   "source": [
    "def get_transformation_matrix(\n",
    "    scale: float,\n",
    "    angle: float,\n",
    "    tx: float,\n",
    "    ty: float,\n",
    "):\n",
    "    '''Creates the transformation matrix for scaling, rotation, and translation.'''\n",
    "\n",
    "    S = np.array([\n",
    "        [scale, 0, 0],\n",
    "        [0, scale, 0],\n",
    "        [0, 0, 1]\n",
    "    ])\n",
    "    R = np.array([\n",
    "        [np.cos(angle), -np.sin(angle), 0],\n",
    "        [np.sin(angle), np.cos(angle), 0],\n",
    "        [0, 0, 1]\n",
    "    ])\n",
    "    T = np.array([\n",
    "        [1, 0, tx],\n",
    "        [0, 1, ty],\n",
    "        [0, 0, 1]\n",
    "    ])\n",
    "    return T @ R @ S"
   ]
  },
  {
   "cell_type": "markdown",
   "id": "a7e1aa16",
   "metadata": {},
   "source": [
    "## Define animation parameters"
   ]
  },
  {
   "cell_type": "code",
   "execution_count": 3,
   "id": "484f7344",
   "metadata": {},
   "outputs": [],
   "source": [
    "num_frames = 60\n",
    "angles = np.linspace(0, 2 * np.pi, num_frames)\n",
    "scales = np.linspace(1, 2, num_frames)\n",
    "translations = np.linspace(0, 5, num_frames)"
   ]
  },
  {
   "cell_type": "markdown",
   "id": "d48cc857",
   "metadata": {},
   "source": [
    "## Animation"
   ]
  },
  {
   "cell_type": "markdown",
   "id": "31fd1308",
   "metadata": {},
   "source": [
    "## Animation loop\n"
   ]
  },
  {
   "cell_type": "code",
   "execution_count": 4,
   "id": "efeaf7f5",
   "metadata": {},
   "outputs": [
    {
     "name": "stdout",
     "output_type": "stream",
     "text": [
      "Transformation matrix for frame 1:\n",
      "[[1. 0. 0.]\n",
      " [0. 1. 0.]\n",
      " [0. 0. 1.]]\n",
      "Ones vector for homogeneous coordinates:\n",
      "[[1. 1. 1. 1.]]\n",
      "Shape coordinates (homogeneous) for frame 1:\n",
      "[[0.  1.  0.5 0. ]\n",
      " [0.  0.  1.  0. ]\n",
      " [1.  1.  1.  1. ]]\n",
      "Transformed shape coordinates (homogeneous) for frame 1:\n",
      "[[0.  1.  0.5 0. ]\n",
      " [0.  0.  1.  0. ]\n",
      " [1.  1.  1.  1. ]]\n",
      "--------------------------------------------------\n",
      "Transformation matrix for frame 11:\n",
      "[[ 0.56667814 -1.02302801  0.84745763]\n",
      " [ 1.02302801  0.56667814  0.84745763]\n",
      " [ 0.          0.          1.        ]]\n",
      "Ones vector for homogeneous coordinates:\n",
      "[[1. 1. 1. 1.]]\n",
      "Shape coordinates (homogeneous) for frame 11:\n",
      "[[0.  1.  0.5 0. ]\n",
      " [0.  0.  1.  0. ]\n",
      " [1.  1.  1.  1. ]]\n",
      "Transformed shape coordinates (homogeneous) for frame 11:\n",
      "[[0.84745763 1.41413576 0.10776868 0.84745763]\n",
      " [0.84745763 1.87048564 1.92564977 0.84745763]\n",
      " [1.         1.         1.         1.        ]]\n",
      "--------------------------------------------------\n",
      "Transformation matrix for frame 21:\n",
      "[[-0.71022461 -1.13510203  1.69491525]\n",
      " [ 1.13510203 -0.71022461  1.69491525]\n",
      " [ 0.          0.          1.        ]]\n",
      "Ones vector for homogeneous coordinates:\n",
      "[[1. 1. 1. 1.]]\n",
      "Shape coordinates (homogeneous) for frame 21:\n",
      "[[0.  1.  0.5 0. ]\n",
      " [0.  0.  1.  0. ]\n",
      " [1.  1.  1.  1. ]]\n",
      "Transformed shape coordinates (homogeneous) for frame 21:\n",
      "[[1.69491525 0.98469065 0.20470092 1.69491525]\n",
      " [1.69491525 2.83001728 1.55224166 1.69491525]\n",
      " [1.         1.         1.         1.        ]]\n",
      "--------------------------------------------------\n",
      "Transformation matrix for frame 31:\n",
      "[[-1.50633661  0.0802843   2.54237288]\n",
      " [-0.0802843  -1.50633661  2.54237288]\n",
      " [ 0.          0.          1.        ]]\n",
      "Ones vector for homogeneous coordinates:\n",
      "[[1. 1. 1. 1.]]\n",
      "Shape coordinates (homogeneous) for frame 31:\n",
      "[[0.  1.  0.5 0. ]\n",
      " [0.  0.  1.  0. ]\n",
      " [1.  1.  1.  1. ]]\n",
      "Transformed shape coordinates (homogeneous) for frame 31:\n",
      "[[2.54237288 1.03603627 1.86948887 2.54237288]\n",
      " [2.54237288 2.46208858 0.99589412 2.54237288]\n",
      " [1.         1.         1.         1.        ]]\n",
      "--------------------------------------------------\n",
      "Transformation matrix for frame 41:\n",
      "[[-0.73378686  1.50901527  3.38983051]\n",
      " [-1.50901527 -0.73378686  3.38983051]\n",
      " [ 0.          0.          1.        ]]\n",
      "Ones vector for homogeneous coordinates:\n",
      "[[1. 1. 1. 1.]]\n",
      "Shape coordinates (homogeneous) for frame 41:\n",
      "[[0.  1.  0.5 0. ]\n",
      " [0.  0.  1.  0. ]\n",
      " [1.  1.  1.  1. ]]\n",
      "Transformed shape coordinates (homogeneous) for frame 41:\n",
      "[[3.38983051 2.65604365 4.53195235 3.38983051]\n",
      " [3.38983051 1.88081524 1.90153601 3.38983051]\n",
      " [1.         1.         1.         1.        ]]\n",
      "--------------------------------------------------\n",
      "Transformation matrix for frame 51:\n",
      "[[ 1.06189538  1.5117797   4.23728814]\n",
      " [-1.5117797   1.06189538  4.23728814]\n",
      " [ 0.          0.          1.        ]]\n",
      "Ones vector for homogeneous coordinates:\n",
      "[[1. 1. 1. 1.]]\n",
      "Shape coordinates (homogeneous) for frame 51:\n",
      "[[0.  1.  0.5 0. ]\n",
      " [0.  0.  1.  0. ]\n",
      " [1.  1.  1.  1. ]]\n",
      "Transformed shape coordinates (homogeneous) for frame 51:\n",
      "[[4.23728814 5.29918352 6.28001553 4.23728814]\n",
      " [4.23728814 2.72550843 4.54329367 4.23728814]\n",
      " [1.         1.         1.         1.        ]]\n",
      "--------------------------------------------------\n"
     ]
    }
   ],
   "source": [
    "for frame in range(num_frames):\n",
    "    angle = angles[frame]\n",
    "    scale = scales[frame]\n",
    "    tx = translations[frame]\n",
    "    ty = translations[frame]\n",
    "\n",
    "    # Compute transformation matrix\n",
    "    matrix = get_transformation_matrix(scale, angle, tx, ty)\n",
    "\n",
    "    # Convert shape to homogeneous coordinates\n",
    "    ones = np.ones((1, original_shape.shape[1]))\n",
    "    shape_homogeneous = np.vstack((original_shape, ones))\n",
    "\n",
    "    # Apply transformation\n",
    "    transformed_shape = matrix @ shape_homogeneous\n",
    "\n",
    "    if frame % 10 == 0:\n",
    "        print(f\"Transformation matrix for frame {frame+1}:\\n{matrix}\")\n",
    "        print(f\"Ones vector for homogeneous coordinates:\\n{ones}\")\n",
    "        print(\n",
    "            f\"Shape coordinates (homogeneous) for frame {frame+1}:\\n{shape_homogeneous}\")\n",
    "        print(\n",
    "            f\"Transformed shape coordinates (homogeneous) for frame {frame+1}:\\n{transformed_shape}\")\n",
    "        print('-' * 50)"
   ]
  }
 ],
 "metadata": {
  "language_info": {
   "name": "python"
  }
 },
 "nbformat": 4,
 "nbformat_minor": 5
}
