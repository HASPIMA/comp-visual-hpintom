{
 "cells": [
  {
   "cell_type": "code",
   "execution_count": 2,
   "id": "48b70bde",
   "metadata": {},
   "outputs": [
    {
     "name": "stdout",
     "output_type": "stream",
     "text": [
      "Collecting opencv-python\n",
      "  Downloading opencv_python-4.11.0.86-cp37-abi3-manylinux_2_17_x86_64.manylinux2014_x86_64.whl.metadata (20 kB)\n",
      "Requirement already satisfied: numpy>=1.21.2 in /home/niby/anaconda3/lib/python3.12/site-packages (from opencv-python) (1.26.4)\n",
      "Downloading opencv_python-4.11.0.86-cp37-abi3-manylinux_2_17_x86_64.manylinux2014_x86_64.whl (63.0 MB)\n",
      "\u001b[2K   \u001b[90m━━━━━━━━━━━━━━━━━━━━━━━━━━━━━━━━━━━━━━━━\u001b[0m \u001b[32m63.0/63.0 MB\u001b[0m \u001b[31m97.8 MB/s\u001b[0m eta \u001b[36m0:00:00\u001b[0m:00:01\u001b[0m00:01\u001b[0m\n",
      "\u001b[?25hInstalling collected packages: opencv-python\n",
      "Successfully installed opencv-python-4.11.0.86\n",
      "Note: you may need to restart the kernel to use updated packages.\n"
     ]
    }
   ],
   "source": [
    "pip install opencv-python"
   ]
  },
  {
   "cell_type": "code",
   "execution_count": null,
   "id": "e66eccfa",
   "metadata": {},
   "outputs": [],
   "source": [
    "import cv2\n",
    "import numpy as np\n",
    "import matplotlib.pyplot as plt\n",
    "import imageio.v2 as imageio\n",
    "import os\n",
    "\n",
    "# Cargar imagen y convertir a gris\n",
    "img_path = 'imagen.jpg'\n",
    "img_color = cv2.imread(img_path)\n",
    "img_gray  = cv2.cvtColor(img_color, cv2.COLOR_BGR2GRAY)\n",
    "\n",
    "# Paso 1: Umbral fijo\n",
    "_, th_fixed = cv2.threshold(img_gray, 200, 255, cv2.THRESH_BINARY_INV)\n",
    "\n",
    "# Paso 2: Umbral adaptativo\n",
    "th_adapt = cv2.adaptiveThreshold(\n",
    "    img_gray, 255,\n",
    "    cv2.ADAPTIVE_THRESH_GAUSSIAN_C,\n",
    "    cv2.THRESH_BINARY_INV,\n",
    "    blockSize=15,\n",
    "    C=5\n",
    ")\n",
    "\n",
    "# Paso 3: Máscara combinada\n",
    "mask = cv2.bitwise_or(th_fixed, th_adapt)\n",
    "\n",
    "# Paso 4: Contornos\n",
    "contours, _ = cv2.findContours(mask, cv2.RETR_EXTERNAL, cv2.CHAIN_APPROX_SIMPLE)\n",
    "h, w = img_gray.shape\n",
    "area_min = h*w * 0.002\n",
    "contours = [c for c in contours if cv2.contourArea(c) > area_min]\n",
    "\n",
    "# Paso 5: Dibujo final\n",
    "out = img_color.copy()\n",
    "for cnt in contours:\n",
    "    x,y,ww,hh = cv2.boundingRect(cnt)\n",
    "    M = cv2.moments(cnt)\n",
    "    cx = int(M['m10']/M['m00']) if M['m00'] else 0\n",
    "    cy = int(M['m01']/M['m00']) if M['m00'] else 0\n",
    "    cv2.drawContours(out, [cnt], -1, (0,255,0), 2)\n",
    "    cv2.circle(out, (cx,cy), 5, (255,0,0), -1)\n",
    "    cv2.rectangle(out, (x,y), (x+ww, y+hh), (0,0,255), 2)\n",
    "\n",
    "# Guardar frames temporales\n",
    "frames = []\n",
    "steps = [\n",
    "    (\"Original\", img_color),\n",
    "    (\"Grises\", cv2.cvtColor(img_gray, cv2.COLOR_GRAY2BGR)),\n",
    "    (\"Umbral fijo\", cv2.cvtColor(th_fixed, cv2.COLOR_GRAY2BGR)),\n",
    "    (\"Umbral adaptativo\", cv2.cvtColor(th_adapt, cv2.COLOR_GRAY2BGR)),\n",
    "    (\"Máscara combinada\", cv2.cvtColor(mask, cv2.COLOR_GRAY2BGR)),\n",
    "    (\"Resultado final\", out)\n",
    "]\n",
    "\n",
    "for i, (title, img) in enumerate(steps):\n",
    "    fig, ax = plt.subplots(figsize=(4, 4))\n",
    "    ax.imshow(cv2.cvtColor(img, cv2.COLOR_BGR2RGB))\n",
    "    ax.set_title(title)\n",
    "    ax.axis('off')\n",
    "    fname = f\"frame_{i}.png\"\n",
    "    fig.savefig(fname)\n",
    "    frames.append(imageio.imread(fname))\n",
    "    plt.close()\n",
    "    os.remove(fname)  # elimina archivos temporales\n",
    "\n",
    "# Guardar el GIF\n",
    "imageio.mimsave('resultado.gif', frames, duration=1.2)\n"
   ]
  },
  {
   "cell_type": "code",
   "execution_count": null,
   "id": "83718411",
   "metadata": {},
   "outputs": [],
   "source": []
  }
 ],
 "metadata": {
  "kernelspec": {
   "display_name": "base",
   "language": "python",
   "name": "python3"
  },
  "language_info": {
   "codemirror_mode": {
    "name": "ipython",
    "version": 3
   },
   "file_extension": ".py",
   "mimetype": "text/x-python",
   "name": "python",
   "nbconvert_exporter": "python",
   "pygments_lexer": "ipython3",
   "version": "3.12.2"
  }
 },
 "nbformat": 4,
 "nbformat_minor": 5
}
