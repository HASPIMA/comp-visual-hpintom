{
 "cells": [
  {
   "cell_type": "markdown",
   "id": "81917ee7",
   "metadata": {},
   "source": [
    "# Rasterization from Scratch: Drawing with Classic Algorithms"
   ]
  },
  {
   "cell_type": "markdown",
   "id": "7af5f2a4",
   "metadata": {},
   "source": [
    "## Prepare drawing environment\n"
   ]
  },
  {
   "cell_type": "code",
   "execution_count": 1,
   "id": "3e099bb2",
   "metadata": {},
   "outputs": [],
   "source": [
    "type Color = float | tuple[float, ...] | str\n",
    "type DrawingColor = float | tuple[int, ...] | list[int]"
   ]
  },
  {
   "cell_type": "code",
   "execution_count": 2,
   "id": "8ca7905a",
   "metadata": {},
   "outputs": [],
   "source": [
    "from PIL import Image\n",
    "\n",
    "WIDTH, HEIGHT = 200, 200\n",
    "\n",
    "\n",
    "def create_image(\n",
    "    width: int = WIDTH,\n",
    "    height: int = HEIGHT,\n",
    "    color: Color = 'white',\n",
    ") -> Image.Image:\n",
    "    \"\"\"\n",
    "    Create an image with the specified width, height, and color.\n",
    "\n",
    "    Args:\n",
    "        width (int): Width of the image.\n",
    "        height (int): Height of the image.\n",
    "        color (float | tuple[float, ...] | str): Color of the image. Can be a single float,\n",
    "            a tuple of floats, or a string representing a color.\n",
    "\n",
    "    Returns:\n",
    "        Image: A PIL Image object with the specified dimensions and color.\n",
    "    \"\"\"\n",
    "\n",
    "    return Image.new('RGB', (width, height), color)\n",
    "\n",
    "img = create_image(WIDTH, HEIGHT, 'white')"
   ]
  },
  {
   "cell_type": "markdown",
   "id": "9bc9d241",
   "metadata": {},
   "source": [
    "### Bresenham algorithm\n",
    "\n",
    "This is a classic algorithm for drawing lines on a raster display. It uses integer\n",
    "arithmetic to determine which pixels should be illuminated to form a straight line\n",
    "between two points."
   ]
  },
  {
   "cell_type": "code",
   "execution_count": 3,
   "id": "2acfca04",
   "metadata": {},
   "outputs": [],
   "source": [
    "def bresenham(\n",
    "    pixel,\n",
    "    x0: int,\n",
    "    y0: int,\n",
    "    x1: int,\n",
    "    y1: int,\n",
    "    color: Color = (255, 0, 0),\n",
    ") -> None:\n",
    "    \"\"\"\n",
    "    Draw a line using Bresenham's algorithm.\n",
    "\n",
    "    Args:\n",
    "        pixel: The pixel access object of the image.\n",
    "        x0 (int): Starting x-coordinate.\n",
    "        y0 (int): Starting y-coordinate.\n",
    "        x1 (int): Ending x-coordinate.\n",
    "        y1 (int): Ending y-coordinate.\n",
    "        color (Color): Color of the line. Can be a single float, a tuple of floats, or a string.\n",
    "\n",
    "    Returns:\n",
    "        None\n",
    "    \"\"\"\n",
    "    dx = abs(x1 - x0)\n",
    "    dy = abs(y1 - y0)\n",
    "    sx = 1 if x0 < x1 else -1\n",
    "    sy = 1 if y0 < y1 else -1\n",
    "    err = dx - dy\n",
    "\n",
    "    while True:\n",
    "        pixel[x0, y0] = color\n",
    "        if x0 == x1 and y0 == y1:\n",
    "            break\n",
    "        err2 = err * 2\n",
    "        if err2 > -dy:\n",
    "            err -= dy\n",
    "            x0 += sx\n",
    "        if err2 < dx:\n",
    "            err += dx\n",
    "            y0 += sy"
   ]
  },
  {
   "cell_type": "markdown",
   "id": "a891ebfb",
   "metadata": {},
   "source": [
    "### Midpoint circle algorithm\n",
    "This algorithm is used to draw circles on a raster display. It uses the symmetry of\n",
    "the circle to reduce the number of calculations needed to determine which pixels should\n",
    "be illuminated. The algorithm starts at the top of the circle and works its way down,\n",
    "using integer arithmetic to determine which pixels should be illuminated based on the\n",
    "current position and the radius of the circle.\n"
   ]
  },
  {
   "cell_type": "code",
   "execution_count": 4,
   "id": "1cf1f67a",
   "metadata": {},
   "outputs": [],
   "source": [
    "def midpoint_circle(\n",
    "    pixel,\n",
    "    size: tuple[int, int],\n",
    "    x0: int,\n",
    "    y0: int,\n",
    "    radius: int,\n",
    "    color: DrawingColor = (0, 0, 255),\n",
    ") -> None:\n",
    "    \"\"\"\n",
    "    Draw a circle using the midpoint circle algorithm.\n",
    "\n",
    "    Args:\n",
    "        pixel: The pixel access object of the image.\n",
    "        size (tuple[int, int]): Size of the image.\n",
    "        x0 (int): Center x-coordinate.\n",
    "        y0 (int): Center y-coordinate.\n",
    "        radius (int): Radius of the circle.\n",
    "        color (DrawingColor): Color of the circle. Can be a single float, a tuple of floats, or a string.\n",
    "\n",
    "    Returns:\n",
    "        None\n",
    "    \"\"\"\n",
    "    x = radius\n",
    "    y = 0\n",
    "    err = 1 - radius\n",
    "\n",
    "    \n",
    "\n",
    "    width, height = size\n",
    "\n",
    "    while x >= y:\n",
    "        for dx, dy in [\n",
    "            (x, y),\n",
    "            (y, x),\n",
    "            (-x, y),\n",
    "            (-y, x),\n",
    "            (-x, -y),\n",
    "            (-y, -x),\n",
    "            (x, -y),\n",
    "            (y, -x),\n",
    "        ]:\n",
    "            if 0 <= x0 + dx < width and 0 <= y0 + dy < height:\n",
    "                pixel[x0 + dx, y0 + dy] = color\n",
    "        y += 1\n",
    "        if err <= 0:\n",
    "            err += 2 * y + 1\n",
    "        else:\n",
    "            x -= 1\n",
    "            err += 2 * (y - x) + 1"
   ]
  },
  {
   "cell_type": "markdown",
   "id": "d12adff0",
   "metadata": {},
   "source": [
    "### Fill triangle algorithm (scanline algorithm)\n",
    "\n",
    "This algorithm is used to fill a triangle with a solid color. It works by scanning\n",
    "across the triangle from top to bottom, determining the left and right edges of the\n",
    "triangle at each scanline. The algorithm then fills in the pixels between the left and\n",
    "right edges with the desired color. The algorithm uses integer arithmetic to determine\n",
    "the intersection points of the scanlines with the edges of the triangle, which allows it\n",
    "to be implemented efficiently on a raster display."
   ]
  },
  {
   "cell_type": "code",
   "execution_count": 5,
   "id": "7e7b581f",
   "metadata": {},
   "outputs": [],
   "source": [
    "def fill_triangle(\n",
    "    pixels,\n",
    "    size: tuple[int, int],\n",
    "    p1: tuple[int, int],\n",
    "    p2: tuple[int, int],\n",
    "    p3: tuple[int, int],\n",
    "    color: Color = (0, 255, 0),\n",
    ") -> None:\n",
    "    \"\"\"\n",
    "    Fill a triangle using the scanline algorithm.\n",
    "    Args:\n",
    "        pixels: The pixel access object of the image.\n",
    "        size (tuple[int, int]): Size of the image.\n",
    "        p1 (tuple[int, int]): First vertex of the triangle.\n",
    "        p2 (tuple[int, int]): Second vertex of the triangle.\n",
    "        p3 (tuple[int, int]): Third vertex of the triangle.\n",
    "        color (Color): Color to fill the triangle. Can be a single float, a tuple of floats, or a string.\n",
    "    Returns:\n",
    "        None\n",
    "    \"\"\"\n",
    "\n",
    "    # Sort the vertices by y-coordinate\n",
    "    pts = sorted([p1, p2, p3], key=lambda p: p[1])\n",
    "    (x1, y1), (x2, y2), (x3, y3) = pts\n",
    "\n",
    "    width, height = size\n",
    "\n",
    "    def interpolate(\n",
    "        y0: int,\n",
    "        y1: int,\n",
    "        x0: int,\n",
    "        x1: int,\n",
    "    ) -> list[int]:\n",
    "        if y1 == y0:\n",
    "            return []\n",
    "        return [\n",
    "            int(x0 + (x1 - x0) * (y - y0) / (y1 - y0))\n",
    "            for y in range(y0, y1)\n",
    "        ]\n",
    "\n",
    "    x12 = interpolate(y1, y2, x1, x2)\n",
    "    x23 = interpolate(y2, y3, x2, x3)\n",
    "    x13 = interpolate(y1, y3, x1, x3)\n",
    "\n",
    "    x_left = x12 + x23\n",
    "    for y, xl, xr in zip(range(y1, y3), x13, x_left):\n",
    "        for x in range(min(xl, xr), max(xl, xr)):\n",
    "            if 0 <= x < width and 0 <= y < height:\n",
    "                pixels[x, y] = color"
   ]
  },
  {
   "cell_type": "markdown",
   "id": "43b2d757",
   "metadata": {},
   "source": [
    "## Drawing with classic algorithms"
   ]
  },
  {
   "cell_type": "code",
   "execution_count": 6,
   "id": "5e72aff9",
   "metadata": {},
   "outputs": [],
   "source": [
    "from IPython.display import display"
   ]
  },
  {
   "cell_type": "markdown",
   "id": "6e55d1c8",
   "metadata": {},
   "source": [
    "### Bresenham algorithm"
   ]
  },
  {
   "cell_type": "code",
   "execution_count": 7,
   "id": "3ffac6ae",
   "metadata": {},
   "outputs": [
    {
     "data": {
      "image/jpeg": "[encoded data removed]",
      "image/png": "[encoded data removed]",
      "text/plain": [
       "<PIL.Image.Image image mode=RGB size=200x200>"
      ]
     },
     "metadata": {},
     "output_type": "display_data"
    }
   ],
   "source": [
    "img = create_image()\n",
    "pixel = img.load()\n",
    "\n",
    "bresenham(\n",
    "    pixel,\n",
    "    10,\n",
    "    10,\n",
    "    190,\n",
    "    190,\n",
    "    (255, 0, 0),\n",
    ")\n",
    "\n",
    "display(img)\n",
    "img.save('../results/line.png')"
   ]
  },
  {
   "cell_type": "markdown",
   "id": "b02a294c",
   "metadata": {},
   "source": [
    "### Midpoint circle algorithm"
   ]
  },
  {
   "cell_type": "code",
   "execution_count": 8,
   "id": "e980a10d",
   "metadata": {},
   "outputs": [
    {
     "data": {
      "image/jpeg": "[encoded data removed]",
      "image/png": "[encoded data removed]",
      "text/plain": [
       "<PIL.Image.Image image mode=RGB size=200x200>"
      ]
     },
     "metadata": {},
     "output_type": "display_data"
    }
   ],
   "source": [
    "img = create_image()\n",
    "pixel = img.load()\n",
    "\n",
    "midpoint_circle(\n",
    "    pixel,\n",
    "    (WIDTH, HEIGHT),\n",
    "    100,\n",
    "    100,\n",
    "    50,\n",
    "    (0, 0, 255),\n",
    ")\n",
    "\n",
    "display(img)\n",
    "img.save('../results/circle.png')"
   ]
  },
  {
   "cell_type": "markdown",
   "id": "09b42349",
   "metadata": {},
   "source": [
    "### Fill triangle algorithm (scanline algorithm)"
   ]
  },
  {
   "cell_type": "code",
   "execution_count": 9,
   "id": "19065715",
   "metadata": {},
   "outputs": [
    {
     "data": {
      "image/jpeg": "[encoded data removed]",
      "image/png": "[encoded data removed]",
      "text/plain": [
       "<PIL.Image.Image image mode=RGB size=200x200>"
      ]
     },
     "metadata": {},
     "output_type": "display_data"
    }
   ],
   "source": [
    "img = create_image()\n",
    "pixel = img.load()\n",
    "\n",
    "fill_triangle(\n",
    "    pixel,\n",
    "    (WIDTH, HEIGHT),\n",
    "    (50, 50),\n",
    "    (150, 50),\n",
    "    (100, 150),\n",
    "    (0, 255, 0)\n",
    ")\n",
    "\n",
    "display(img)\n",
    "img.save('../results/triangle.png')"
   ]
  }
 ],
 "metadata": {
  "kernelspec": {
   "display_name": ".venv",
   "language": "python",
   "name": "python3"
  },
  "language_info": {
   "codemirror_mode": {
    "name": "ipython",
    "version": 3
   },
   "file_extension": ".py",
   "mimetype": "text/x-python",
   "name": "python",
   "nbconvert_exporter": "python",
   "pygments_lexer": "ipython3",
   "version": "3.13.2"
  }
 },
 "nbformat": 4,
 "nbformat_minor": 5
}
