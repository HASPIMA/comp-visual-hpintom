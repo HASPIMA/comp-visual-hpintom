{
 "cells": [
  {
   "cell_type": "markdown",
   "id": "81917ee7",
   "metadata": {},
   "source": [
    "# Rasterization from Scratch: Drawing with Classic Algorithms"
   ]
  },
  {
   "cell_type": "markdown",
   "id": "7af5f2a4",
   "metadata": {},
   "source": [
    "## Prepare drawing environment\n"
   ]
  },
  {
   "cell_type": "code",
   "execution_count": 5,
   "id": "3e099bb2",
   "metadata": {},
   "outputs": [],
   "source": [
    "type Color = float | tuple[float, ...] | str"
   ]
  },
  {
   "cell_type": "code",
   "execution_count": 6,
   "id": "8ca7905a",
   "metadata": {},
   "outputs": [],
   "source": [
    "from PIL import Image\n",
    "\n",
    "\n",
    "def create_image(\n",
    "    width: int = 200,\n",
    "    height: int = 200,\n",
    "    color: Color = 'white',\n",
    ") -> Image:\n",
    "    \"\"\"\n",
    "    Create an image with the specified width, height, and color.\n",
    "\n",
    "    Args:\n",
    "        width (int): Width of the image.\n",
    "        height (int): Height of the image.\n",
    "        color (float | tuple[float, ...] | str): Color of the image. Can be a single float,\n",
    "            a tuple of floats, or a string representing a color.\n",
    "\n",
    "    Returns:\n",
    "        Image: A PIL Image object with the specified dimensions and color.\n",
    "    \"\"\"\n",
    "\n",
    "    return Image.new('RGB', (width, height), color)"
   ]
  },
  {
   "cell_type": "markdown",
   "id": "9bc9d241",
   "metadata": {},
   "source": [
    "### Bresenham algorithm\n",
    "\n",
    "This is a classic algorithm for drawing lines on a raster display. It uses integer\n",
    "arithmetic to determine which pixels should be illuminated to form a straight line\n",
    "between two points."
   ]
  },
  {
   "cell_type": "code",
   "execution_count": 7,
   "id": "2acfca04",
   "metadata": {},
   "outputs": [],
   "source": [
    "def bresenham(\n",
    "    pixels,\n",
    "    x0: int,\n",
    "    y0: int,\n",
    "    x1: int,\n",
    "    y1: int,\n",
    "    color: Color = (255, 0, 0),\n",
    "):\n",
    "    \"\"\"\n",
    "    Draw a line using Bresenham's algorithm.\n",
    "\n",
    "    Args:\n",
    "        pixels: The pixel access object of the image.\n",
    "        x0 (int): Starting x-coordinate.\n",
    "        y0 (int): Starting y-coordinate.\n",
    "        x1 (int): Ending x-coordinate.\n",
    "        y1 (int): Ending y-coordinate.\n",
    "        color (Color): Color of the line. Can be a single float, a tuple of floats, or a string.\n",
    "\n",
    "    Returns:\n",
    "        None\n",
    "    \"\"\"\n",
    "    dx = abs(x1 - x0)\n",
    "    dy = abs(y1 - y0)\n",
    "    sx = 1 if x0 < x1 else -1\n",
    "    sy = 1 if y0 < y1 else -1\n",
    "    err = dx - dy\n",
    "\n",
    "    while True:\n",
    "        pixels[x0, y0] = color\n",
    "        if x0 == x1 and y0 == y1:\n",
    "            break\n",
    "        err2 = err * 2\n",
    "        if err2 > -dy:\n",
    "            err -= dy\n",
    "            x0 += sx\n",
    "        if err2 < dx:\n",
    "            err += dx\n",
    "            y0 += sy"
   ]
  }
 ],
 "metadata": {
  "kernelspec": {
   "display_name": ".venv",
   "language": "python",
   "name": "python3"
  },
  "language_info": {
   "codemirror_mode": {
    "name": "ipython",
    "version": 3
   },
   "file_extension": ".py",
   "mimetype": "text/x-python",
   "name": "python",
   "nbconvert_exporter": "python",
   "pygments_lexer": "ipython3",
   "version": "3.13.2"
  }
 },
 "nbformat": 4,
 "nbformat_minor": 5
}
