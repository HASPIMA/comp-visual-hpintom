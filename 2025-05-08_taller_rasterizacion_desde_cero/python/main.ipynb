{
 "cells": [
  {
   "cell_type": "markdown",
   "id": "81917ee7",
   "metadata": {},
   "source": [
    "# Rasterization from Scratch: Drawing with Classic Algorithms"
   ]
  },
  {
   "cell_type": "markdown",
   "id": "7af5f2a4",
   "metadata": {},
   "source": [
    "## Prepare drawing environment\n"
   ]
  },
  {
   "cell_type": "code",
   "execution_count": 1,
   "id": "8ca7905a",
   "metadata": {},
   "outputs": [],
   "source": [
    "from PIL import Image\n",
    "\n",
    "\n",
    "def create_image(\n",
    "    width: int = 200,\n",
    "    height: int = 200,\n",
    "    color:  float | tuple[float, ...] | str = 'white',\n",
    "):\n",
    "    \"\"\"\n",
    "    Create an image with the specified width, height, and color.\n",
    "\n",
    "    Args:\n",
    "        width (int): Width of the image.\n",
    "        height (int): Height of the image.\n",
    "        color (float | tuple[float, ...] | str): Color of the image. Can be a single float,\n",
    "            a tuple of floats, or a string representing a color.\n",
    "\n",
    "    Returns:\n",
    "        Image: A PIL Image object with the specified dimensions and color.\n",
    "    \"\"\"\n",
    "\n",
    "    return Image.new('RGB', (width, height), color)"
   ]
  }
 ],
 "metadata": {
  "kernelspec": {
   "display_name": ".venv",
   "language": "python",
   "name": "python3"
  },
  "language_info": {
   "codemirror_mode": {
    "name": "ipython",
    "version": 3
   },
   "file_extension": ".py",
   "mimetype": "text/x-python",
   "name": "python",
   "nbconvert_exporter": "python",
   "pygments_lexer": "ipython3",
   "version": "3.13.2"
  }
 },
 "nbformat": 4,
 "nbformat_minor": 5
}
