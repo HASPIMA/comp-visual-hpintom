{
 "cells": [
  {
   "cell_type": "markdown",
   "id": "4da5a086",
   "metadata": {},
   "source": [
    "# Image Distortion\n",
    "\n",
    "In this notebook, we'll apply distortion to images using OpenCV's remapping functions. We'll:\n",
    "1. Load images from 'img/original'\n",
    "2. Apply distortion using initUndistortRectifyMap and remap\n",
    "3. Save results to 'img/modified'\n"
   ]
  },
  {
   "cell_type": "code",
   "execution_count": 1,
   "id": "057f3397",
   "metadata": {},
   "outputs": [
    {
     "data": {
      "text/plain": [
       "(PosixPath('img/original/20250517_120236.jpg'),\n",
       " PosixPath('img/original/20250517_115659.jpg'),\n",
       " PosixPath('img/original/20250517_120220.jpg'),\n",
       " PosixPath('img/original/20250517_115708.jpg'),\n",
       " PosixPath('img/original/20250517_115649.jpg'),\n",
       " PosixPath('img/original/20250517_115646.jpg'),\n",
       " PosixPath('img/original/20250517_115705.jpg'),\n",
       " PosixPath('img/original/20250517_115644.jpg'),\n",
       " PosixPath('img/original/20250517_115656.jpg'),\n",
       " PosixPath('img/original/20250517_120211.jpg'),\n",
       " PosixPath('img/original/20250517_120231.jpg'),\n",
       " PosixPath('img/original/20250517_120226.jpg'))"
      ]
     },
     "execution_count": 1,
     "metadata": {},
     "output_type": "execute_result"
    }
   ],
   "source": [
    "from pathlib import Path\n",
    "\n",
    "import cv2\n",
    "import numpy as np\n",
    "\n",
    "# Create output directory if it doesn't exist\n",
    "output_dir = Path('img/modified')\n",
    "output_dir.mkdir(parents=True, exist_ok=True)\n",
    "\n",
    "# Read from input directory\n",
    "input_dir = Path('img/original')\n",
    "original_images = tuple(input_dir.glob('*'))\n",
    "\n",
    "assert len(original_images) >= 1, \"There should exist at least one input image\"\n",
    "original_images"
   ]
  },
  {
   "cell_type": "code",
   "execution_count": 2,
   "id": "26d7f5fd",
   "metadata": {},
   "outputs": [],
   "source": [
    "# Camera matrix and distortion coefficients\n",
    "image = cv2.imread(original_images[0])\n",
    "h, w = image.shape[:2]\n",
    "\n",
    "# Define camera matrix (you might want to adjust these values)\n",
    "focal_length = 1000\n",
    "camera_matrix = np.array(\n",
    "    [\n",
    "        [focal_length, 0, w/2],\n",
    "        [0, focal_length, h/2],\n",
    "        [0, 0, 1]\n",
    "    ],\n",
    "    dtype=np.float32,\n",
    ")\n",
    "\n",
    "# Define distortion coefficients (adjust these for different effects)\n",
    "# [k1, k2, p1, p2, k3]\n",
    "dist_coeffs = np.array([0.5, 0.2, 0, 0, 0], dtype=np.float32)"
   ]
  },
  {
   "cell_type": "code",
   "execution_count": 3,
   "id": "14b861d0",
   "metadata": {},
   "outputs": [
    {
     "name": "stdout",
     "output_type": "stream",
     "text": [
      "Processed img/original/20250517_120236.jpg -> img/modified/20250517_120236.jpg\n",
      "Processed img/original/20250517_115659.jpg -> img/modified/20250517_115659.jpg\n",
      "Processed img/original/20250517_120220.jpg -> img/modified/20250517_120220.jpg\n",
      "Processed img/original/20250517_115708.jpg -> img/modified/20250517_115708.jpg\n",
      "Processed img/original/20250517_115649.jpg -> img/modified/20250517_115649.jpg\n",
      "Processed img/original/20250517_115646.jpg -> img/modified/20250517_115646.jpg\n",
      "Processed img/original/20250517_115705.jpg -> img/modified/20250517_115705.jpg\n",
      "Processed img/original/20250517_115644.jpg -> img/modified/20250517_115644.jpg\n",
      "Processed img/original/20250517_115656.jpg -> img/modified/20250517_115656.jpg\n",
      "Processed img/original/20250517_120211.jpg -> img/modified/20250517_120211.jpg\n",
      "Processed img/original/20250517_120231.jpg -> img/modified/20250517_120231.jpg\n",
      "Processed img/original/20250517_120226.jpg -> img/modified/20250517_120226.jpg\n"
     ]
    }
   ],
   "source": [
    "# Process all images in the original directory\n",
    "for img_path in original_images:\n",
    "    # Read image\n",
    "    img = cv2.imread(str(img_path))\n",
    "    if img is None:\n",
    "        print(f'Could not read {img_path}')\n",
    "        continue\n",
    "\n",
    "    h, w = img.shape[:2]\n",
    "\n",
    "    # Get optimal new camera matrix\n",
    "    newcameramtx, roi = cv2.getOptimalNewCameraMatrix(\n",
    "        camera_matrix,\n",
    "        dist_coeffs,\n",
    "        (w, h),\n",
    "        1,\n",
    "        (w, h),\n",
    "    )\n",
    "\n",
    "    # Generate mapping\n",
    "    mapx, mapy = cv2.initUndistortRectifyMap(\n",
    "        camera_matrix,\n",
    "        dist_coeffs,\n",
    "        None,\n",
    "        newcameramtx,\n",
    "        (w, h),\n",
    "        cv2.CV_32FC1,\n",
    "    )\n",
    "\n",
    "    # Apply distortion\n",
    "    dst = cv2.remap(\n",
    "        img,\n",
    "        mapx,\n",
    "        mapy,\n",
    "        cv2.INTER_LINEAR,\n",
    "    )\n",
    "\n",
    "    # Save the result\n",
    "    output_path = output_dir / img_path.name\n",
    "    cv2.imwrite(str(output_path), dst)\n",
    "    print(f'Processed {img_path} -> {output_path}')"
   ]
  }
 ],
 "metadata": {
  "kernelspec": {
   "display_name": ".venv",
   "language": "python",
   "name": "python3"
  },
  "language_info": {
   "codemirror_mode": {
    "name": "ipython",
    "version": 3
   },
   "file_extension": ".py",
   "mimetype": "text/x-python",
   "name": "python",
   "nbconvert_exporter": "python",
   "pygments_lexer": "ipython3",
   "version": "3.13.2"
  }
 },
 "nbformat": 4,
 "nbformat_minor": 5
}
