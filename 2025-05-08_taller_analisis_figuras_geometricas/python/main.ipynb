{
 "cells": [
  {
   "cell_type": "markdown",
   "id": "390bf905",
   "metadata": {},
   "source": [
    "# Workshop - Analysis of Geometric Shapes: Centroid, Area, and Perimeter"
   ]
  },
  {
   "cell_type": "markdown",
   "id": "858381fb",
   "metadata": {},
   "source": [
    "## Load binary image"
   ]
  },
  {
   "cell_type": "code",
   "execution_count": 1,
   "id": "28e3922c",
   "metadata": {},
   "outputs": [
    {
     "data": {
      "text/plain": [
       "array([[255, 255, 255, ..., 255, 255, 255],\n",
       "       [255, 255, 255, ..., 255, 255, 255],\n",
       "       [255, 255, 255, ..., 255, 255,   0],\n",
       "       ...,\n",
       "       [  0,   0,   0, ...,   0,   0,   0],\n",
       "       [  0,   0,   0, ...,   0,   0,   0],\n",
       "       [  0,   0,   0, ...,   0,   0,   0]], shape=(250, 250), dtype=uint8)"
      ]
     },
     "execution_count": 1,
     "metadata": {},
     "output_type": "execute_result"
    }
   ],
   "source": [
    "import cv2\n",
    "\n",
    "img = cv2.imread('../data/Lenna.png')\n",
    "assert img is not None, 'Failed to load image'\n",
    "\n",
    "# Convert to grayscale\n",
    "img_gray = cv2.cvtColor(\n",
    "    img,\n",
    "    cv2.COLOR_BGR2GRAY,\n",
    ")\n",
    "\n",
    "\n",
    "# Threshold the image\n",
    "_, thresh = cv2.threshold(\n",
    "    img_gray,\n",
    "    127,\n",
    "    255,\n",
    "    cv2.THRESH_BINARY,\n",
    ")\n",
    "\n",
    "thresh"
   ]
  },
  {
   "cell_type": "markdown",
   "id": "14099590",
   "metadata": {},
   "source": [
    "## Find contours"
   ]
  },
  {
   "cell_type": "code",
   "execution_count": 2,
   "id": "f878e90a",
   "metadata": {},
   "outputs": [
    {
     "name": "stdout",
     "output_type": "stream",
     "text": [
      "Number of contours found: 252\n"
     ]
    }
   ],
   "source": [
    "contours, hierarchy = cv2.findContours(\n",
    "    thresh,\n",
    "    cv2.RETR_TREE, # Retrieves all contours and reconstructs a full hierarchy of nested contours\n",
    "    cv2.CHAIN_APPROX_SIMPLE, # Reduces the number of points in the contour\n",
    ")\n",
    "\n",
    "print(f'Number of contours found: {len(contours)}')"
   ]
  }
 ],
 "metadata": {
  "kernelspec": {
   "display_name": ".venv",
   "language": "python",
   "name": "python3"
  },
  "language_info": {
   "codemirror_mode": {
    "name": "ipython",
    "version": 3
   },
   "file_extension": ".py",
   "mimetype": "text/x-python",
   "name": "python",
   "nbconvert_exporter": "python",
   "pygments_lexer": "ipython3",
   "version": "3.13.2"
  }
 },
 "nbformat": 4,
 "nbformat_minor": 5
}
